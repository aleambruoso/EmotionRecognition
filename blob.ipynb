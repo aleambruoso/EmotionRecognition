{
 "cells": [
  {
   "cell_type": "code",
   "execution_count": 45,
   "metadata": {},
   "outputs": [],
   "source": [
    "import cv2\r\n",
    "import dlib\r\n",
    "import os\r\n",
    "import numpy as np\r\n",
    "from pathlib import Path\r\n",
    "\r\n",
    "\r\n",
    "dirList= next(os.walk('cohn-kanade-images'))[1]\r\n",
    "for x in dirList:\r\n",
    "    folderList=next(os.walk('cohn-kanade-images/'+x))[1]\r\n",
    "    for y in folderList:\r\n",
    "        tempImage=''\r\n",
    "        tempName=''\r\n",
    "        imgList=next(os.walk('cohn-kanade-images/'+x+'/'+y))[2]\r\n",
    "        for img in imgList:\r\n",
    "            img_gray = cv2.imread('cohn-kanade-images/'+x+'/'+y+'/'+img, 0)\r\n",
    "            detector = dlib.get_frontal_face_detector()\r\n",
    "            faces = detector(img_gray, 1)\r\n",
    "            for face in faces:\r\n",
    "                x1 = face.left()\r\n",
    "                y1 = face.top()\r\n",
    "                x2 = face.right()\r\n",
    "                y2 = face.bottom()\r\n",
    "            crop_img= img_gray[y1:y2, x1:x2]\r\n",
    "            crop_img= cv2.resize(crop_img, (267,267))\r\n",
    "            if tempName!='':\r\n",
    "                new_img= tempImage-crop_img\r\n",
    "                _,img_thre= cv2.threshold(new_img,127,255,cv2.THRESH_BINARY)\r\n",
    "                kernel = np.ones((5, 5), np.uint8)\r\n",
    "                img_thre=cv2.erode(img_thre, kernel)\r\n",
    "                Path('binary/'+x).mkdir(parents=True, exist_ok=True)\r\n",
    "                cv2.imwrite('binary/'+x+'/'+tempName+'-'+img[-6:-4]+'.png', img_thre)\r\n",
    "                tempName=x+'_'+y+'_'+img[-6:-4]\r\n",
    "                tempImage=crop_img\r\n",
    "            else:\r\n",
    "                tempName=x+'_'+y+'_'+img[-6:-4]\r\n",
    "                tempImage=crop_img\r\n"
   ]
  }
 ],
 "metadata": {
  "kernelspec": {
   "display_name": "Python 3.7.10 64-bit ('fvab': conda)",
   "name": "python3710jvsc74a57bd09583d8d2cddb805b521f78dd87e0ebcc5578ab3cc25e88f484f334cfde29fc29"
  },
  "language_info": {
   "name": "python",
   "version": ""
  },
  "orig_nbformat": 2
 },
 "nbformat": 4,
 "nbformat_minor": 2
}